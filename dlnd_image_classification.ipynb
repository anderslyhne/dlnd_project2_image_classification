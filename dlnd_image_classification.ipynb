{
 "cells": [
  {
   "cell_type": "markdown",
   "metadata": {
    "collapsed": true,
    "deletable": true,
    "editable": true
   },
   "source": [
    "# Image Classification\n",
    "In this project, you'll classify images from the [CIFAR-10 dataset](https://www.cs.toronto.edu/~kriz/cifar.html).  The dataset consists of airplanes, dogs, cats, and other objects. You'll preprocess the images, then train a convolutional neural network on all the samples. The images need to be normalized and the labels need to be one-hot encoded.  You'll get to apply what you learned and build a convolutional, max pooling, dropout, and fully connected layers.  At the end, you'll get to see your neural network's predictions on the sample images.\n",
    "## Get the Data\n",
    "Run the following cell to download the [CIFAR-10 dataset for python](https://www.cs.toronto.edu/~kriz/cifar-10-python.tar.gz)."
   ]
  },
  {
   "cell_type": "code",
   "execution_count": 64,
   "metadata": {
    "collapsed": false,
    "deletable": true,
    "editable": true
   },
   "outputs": [
    {
     "name": "stdout",
     "output_type": "stream",
     "text": [
      "All files found!\n"
     ]
    }
   ],
   "source": [
    "\"\"\"\n",
    "DON'T MODIFY ANYTHING IN THIS CELL THAT IS BELOW THIS LINE\n",
    "\"\"\"\n",
    "from urllib.request import urlretrieve\n",
    "from os.path import isfile, isdir\n",
    "from tqdm import tqdm\n",
    "import problem_unittests as tests\n",
    "import tarfile\n",
    "\n",
    "cifar10_dataset_folder_path = 'cifar-10-batches-py'\n",
    "\n",
    "# Use Floyd's cifar-10 dataset if present\n",
    "floyd_cifar10_location = '/input/cifar-10/python.tar.gz'\n",
    "if isfile(floyd_cifar10_location):\n",
    "    tar_gz_path = floyd_cifar10_location\n",
    "else:\n",
    "    tar_gz_path = 'cifar-10-python.tar.gz'\n",
    "\n",
    "class DLProgress(tqdm):\n",
    "    last_block = 0\n",
    "\n",
    "    def hook(self, block_num=1, block_size=1, total_size=None):\n",
    "        self.total = total_size\n",
    "        self.update((block_num - self.last_block) * block_size)\n",
    "        self.last_block = block_num\n",
    "\n",
    "if not isfile(tar_gz_path):\n",
    "    with DLProgress(unit='B', unit_scale=True, miniters=1, desc='CIFAR-10 Dataset') as pbar:\n",
    "        urlretrieve(\n",
    "            'https://www.cs.toronto.edu/~kriz/cifar-10-python.tar.gz',\n",
    "            tar_gz_path,\n",
    "            pbar.hook)\n",
    "\n",
    "if not isdir(cifar10_dataset_folder_path):\n",
    "    with tarfile.open(tar_gz_path) as tar:\n",
    "        tar.extractall()\n",
    "        tar.close()\n",
    "\n",
    "\n",
    "tests.test_folder_path(cifar10_dataset_folder_path)"
   ]
  },
  {
   "cell_type": "markdown",
   "metadata": {
    "deletable": true,
    "editable": true
   },
   "source": [
    "## Explore the Data\n",
    "The dataset is broken into batches to prevent your machine from running out of memory.  The CIFAR-10 dataset consists of 5 batches, named `data_batch_1`, `data_batch_2`, etc.. Each batch contains the labels and images that are one of the following:\n",
    "* airplane\n",
    "* automobile\n",
    "* bird\n",
    "* cat\n",
    "* deer\n",
    "* dog\n",
    "* frog\n",
    "* horse\n",
    "* ship\n",
    "* truck\n",
    "\n",
    "Understanding a dataset is part of making predictions on the data.  Play around with the code cell below by changing the `batch_id` and `sample_id`. The `batch_id` is the id for a batch (1-5). The `sample_id` is the id for a image and label pair in the batch.\n",
    "\n",
    "Ask yourself \"What are all possible labels?\", \"What is the range of values for the image data?\", \"Are the labels in order or random?\".  Answers to questions like these will help you preprocess the data and end up with better predictions."
   ]
  },
  {
   "cell_type": "code",
   "execution_count": 65,
   "metadata": {
    "collapsed": false,
    "deletable": true,
    "editable": true
   },
   "outputs": [
    {
     "name": "stdout",
     "output_type": "stream",
     "text": [
      "\n",
      "Stats of batch 1:\n",
      "Samples: 10000\n",
      "Label Counts: {0: 1005, 1: 974, 2: 1032, 3: 1016, 4: 999, 5: 937, 6: 1030, 7: 1001, 8: 1025, 9: 981}\n",
      "First 20 Labels: [6, 9, 9, 4, 1, 1, 2, 7, 8, 3, 4, 7, 7, 2, 9, 9, 9, 3, 2, 6]\n",
      "\n",
      "Example of Image 42:\n",
      "Image - Min Value: 28 Max Value: 192\n",
      "Image - Shape: (32, 32, 3)\n",
      "Label - Label Id: 2 Name: bird\n"
     ]
    },
    {
     "data": {
      "image/png": "[encoded data removed]",
      "text/plain": [
       "<matplotlib.figure.Figure at 0x7fac47de82e8>"
      ]
     },
     "metadata": {
      "image/png": {
       "height": 250,
       "width": 253
      }
     },
     "output_type": "display_data"
    }
   ],
   "source": [
    "%matplotlib inline\n",
    "%config InlineBackend.figure_format = 'retina'\n",
    "\n",
    "import helper\n",
    "import numpy as np\n",
    "\n",
    "# Explore the dataset\n",
    "batch_id = 1\n",
    "sample_id = 42\n",
    "helper.display_stats(cifar10_dataset_folder_path, batch_id, sample_id)"
   ]
  },
  {
   "cell_type": "markdown",
   "metadata": {
    "deletable": true,
    "editable": true
   },
   "source": [
    "## Implement Preprocess Functions\n",
    "### Normalize\n",
    "In the cell below, implement the `normalize` function to take in image data, `x`, and return it as a normalized Numpy array. The values should be in the range of 0 to 1, inclusive.  The return object should be the same shape as `x`."
   ]
  },
  {
   "cell_type": "code",
   "execution_count": 66,
   "metadata": {
    "collapsed": false,
    "deletable": true,
    "editable": true
   },
   "outputs": [
    {
     "name": "stdout",
     "output_type": "stream",
     "text": [
      "Tests Passed\n"
     ]
    }
   ],
   "source": [
    "def normalize(x):\n",
    "    \"\"\"\n",
    "    Normalize a list of sample image data in the range of 0 to 1\n",
    "    : x: List of image data.  The image shape is (32, 32, 3)\n",
    "    : return: Numpy array of normalize data\n",
    "    \"\"\"\n",
    "    min_value, max_value = x.min(), x.max()\n",
    "    return (x - min_value) / (max_value - min_value)\n",
    "\n",
    "\n",
    "\"\"\"\n",
    "DON'T MODIFY ANYTHING IN THIS CELL THAT IS BELOW THIS LINE\n",
    "\"\"\"\n",
    "tests.test_normalize(normalize)"
   ]
  },
  {
   "cell_type": "markdown",
   "metadata": {
    "deletable": true,
    "editable": true
   },
   "source": [
    "### One-hot encode\n",
    "Just like the previous code cell, you'll be implementing a function for preprocessing.  This time, you'll implement the `one_hot_encode` function. The input, `x`, are a list of labels.  Implement the function to return the list of labels as One-Hot encoded Numpy array.  The possible values for labels are 0 to 9. The one-hot encoding function should return the same encoding for each value between each call to `one_hot_encode`.  Make sure to save the map of encodings outside the function.\n",
    "\n",
    "Hint: Don't reinvent the wheel."
   ]
  },
  {
   "cell_type": "code",
   "execution_count": 67,
   "metadata": {
    "collapsed": false,
    "deletable": true,
    "editable": true
   },
   "outputs": [
    {
     "name": "stdout",
     "output_type": "stream",
     "text": [
      "Tests Passed\n"
     ]
    }
   ],
   "source": [
    "def one_hot_encode(x):\n",
    "    \"\"\"\n",
    "    One hot encode a list of sample labels. Return a one-hot encoded vector for each label.\n",
    "    : x: List of sample Labels\n",
    "    : return: Numpy array of one-hot encoded labels\n",
    "    \"\"\"\n",
    "    num_examples, num_classes = len(x), 10\n",
    "    res = np.zeros((num_examples, num_classes))\n",
    "    res[np.arange(num_examples), x] = 1\n",
    "    return res \n",
    "\n",
    "\"\"\"\n",
    "DON'T MODIFY ANYTHING IN THIS CELL THAT IS BELOW THIS LINE\n",
    "\"\"\"\n",
    "tests.test_one_hot_encode(one_hot_encode)"
   ]
  },
  {
   "cell_type": "markdown",
   "metadata": {
    "deletable": true,
    "editable": true
   },
   "source": [
    "### Randomize Data\n",
    "As you saw from exploring the data above, the order of the samples are randomized.  It doesn't hurt to randomize it again, but you don't need to for this dataset."
   ]
  },
  {
   "cell_type": "markdown",
   "metadata": {
    "deletable": true,
    "editable": true
   },
   "source": [
    "## Preprocess all the data and save it\n",
    "Running the code cell below will preprocess all the CIFAR-10 data and save it to file. The code below also uses 10% of the training data for validation."
   ]
  },
  {
   "cell_type": "code",
   "execution_count": 68,
   "metadata": {
    "collapsed": false,
    "deletable": true,
    "editable": true
   },
   "outputs": [],
   "source": [
    "\"\"\"\n",
    "DON'T MODIFY ANYTHING IN THIS CELL\n",
    "\"\"\"\n",
    "# Preprocess Training, Validation, and Testing Data\n",
    "helper.preprocess_and_save_data(cifar10_dataset_folder_path, normalize, one_hot_encode)"
   ]
  },
  {
   "cell_type": "markdown",
   "metadata": {
    "deletable": true,
    "editable": true
   },
   "source": [
    "# Check Point\n",
    "This is your first checkpoint.  If you ever decide to come back to this notebook or have to restart the notebook, you can start from here.  The preprocessed data has been saved to disk."
   ]
  },
  {
   "cell_type": "code",
   "execution_count": 1,
   "metadata": {
    "collapsed": false,
    "deletable": true,
    "editable": true
   },
   "outputs": [],
   "source": [
    "\"\"\"\n",
    "DON'T MODIFY ANYTHING IN THIS CELL\n",
    "\"\"\"\n",
    "import numpy as np\n",
    "import pickle\n",
    "import problem_unittests as tests\n",
    "import helper\n",
    "\n",
    "# Load the Preprocessed Validation data\n",
    "valid_features, valid_labels = pickle.load(open('preprocess_validation.p', mode='rb'))"
   ]
  },
  {
   "cell_type": "markdown",
   "metadata": {
    "deletable": true,
    "editable": true
   },
   "source": [
    "## Build the network\n",
    "For the neural network, you'll build each layer into a function.  Most of the code you've seen has been outside of functions. To test your code more thoroughly, we require that you put each layer in a function.  This allows us to give you better feedback and test for simple mistakes using our unittests before you submit your project.\n",
    "\n",
    ">**Note:** If you're finding it hard to dedicate enough time for this course each week, we've provided a small shortcut to this part of the project. In the next couple of problems, you'll have the option to use classes from the [TensorFlow Layers](https://www.tensorflow.org/api_docs/python/tf/layers) or [TensorFlow Layers (contrib)](https://www.tensorflow.org/api_guides/python/contrib.layers) packages to build each layer, except the layers you build in the \"Convolutional and Max Pooling Layer\" section.  TF Layers is similar to Keras's and TFLearn's abstraction to layers, so it's easy to pickup.\n",
    "\n",
    ">However, if you would like to get the most out of this course, try to solve all the problems _without_ using anything from the TF Layers packages. You **can** still use classes from other packages that happen to have the same name as ones you find in TF Layers! For example, instead of using the TF Layers version of the `conv2d` class, [tf.layers.conv2d](https://www.tensorflow.org/api_docs/python/tf/layers/conv2d), you would want to use the TF Neural Network version of `conv2d`, [tf.nn.conv2d](https://www.tensorflow.org/api_docs/python/tf/nn/conv2d). \n",
    "\n",
    "Let's begin!\n",
    "\n",
    "### Input\n",
    "The neural network needs to read the image data, one-hot encoded labels, and dropout keep probability. Implement the following functions\n",
    "* Implement `neural_net_image_input`\n",
    " * Return a [TF Placeholder](https://www.tensorflow.org/api_docs/python/tf/placeholder)\n",
    " * Set the shape using `image_shape` with batch size set to `None`.\n",
    " * Name the TensorFlow placeholder \"x\" using the TensorFlow `name` parameter in the [TF Placeholder](https://www.tensorflow.org/api_docs/python/tf/placeholder).\n",
    "* Implement `neural_net_label_input`\n",
    " * Return a [TF Placeholder](https://www.tensorflow.org/api_docs/python/tf/placeholder)\n",
    " * Set the shape using `n_classes` with batch size set to `None`.\n",
    " * Name the TensorFlow placeholder \"y\" using the TensorFlow `name` parameter in the [TF Placeholder](https://www.tensorflow.org/api_docs/python/tf/placeholder).\n",
    "* Implement `neural_net_keep_prob_input`\n",
    " * Return a [TF Placeholder](https://www.tensorflow.org/api_docs/python/tf/placeholder) for dropout keep probability.\n",
    " * Name the TensorFlow placeholder \"keep_prob\" using the TensorFlow `name` parameter in the [TF Placeholder](https://www.tensorflow.org/api_docs/python/tf/placeholder).\n",
    "\n",
    "These names will be used at the end of the project to load your saved model.\n",
    "\n",
    "Note: `None` for shapes in TensorFlow allow for a dynamic size."
   ]
  },
  {
   "cell_type": "code",
   "execution_count": 2,
   "metadata": {
    "collapsed": false,
    "deletable": true,
    "editable": true
   },
   "outputs": [
    {
     "name": "stdout",
     "output_type": "stream",
     "text": [
      "Image Input Tests Passed.\n",
      "Label Input Tests Passed.\n",
      "Keep Prob Tests Passed.\n"
     ]
    }
   ],
   "source": [
    "import tensorflow as tf\n",
    "\n",
    "def neural_net_image_input(image_shape):\n",
    "    \"\"\"\n",
    "    Return a Tensor for a batch of image input\n",
    "    : image_shape: Shape of the images\n",
    "    : return: Tensor for image input.\n",
    "    \"\"\"\n",
    "    x = tf.placeholder(tf.float32, (None,) + image_shape, name='x')    \n",
    "    return x\n",
    "\n",
    "\n",
    "def neural_net_label_input(n_classes):\n",
    "    \"\"\"\n",
    "    Return a Tensor for a batch of label input\n",
    "    : n_classes: Number of classes\n",
    "    : return: Tensor for label input.\n",
    "    \"\"\"\n",
    "    y = tf.placeholder(tf.float32, (None, n_classes), name='y')    \n",
    "    return y\n",
    "\n",
    "\n",
    "def neural_net_keep_prob_input():\n",
    "    keep_prob = tf.placeholder(tf.float32, name='keep_prob') \n",
    "    return keep_prob\n",
    "\n",
    "\n",
    "\"\"\"\n",
    "DON'T MODIFY ANYTHING IN THIS CELL THAT IS BELOW THIS LINE\n",
    "\"\"\"\n",
    "tf.reset_default_graph()\n",
    "tests.test_nn_image_inputs(neural_net_image_input)\n",
    "tests.test_nn_label_inputs(neural_net_label_input)\n",
    "tests.test_nn_keep_prob_inputs(neural_net_keep_prob_input)"
   ]
  },
  {
   "cell_type": "markdown",
   "metadata": {
    "deletable": true,
    "editable": true
   },
   "source": [
    "### Convolution and Max Pooling Layer\n",
    "Convolution layers have a lot of success with images. For this code cell, you should implement the function `conv2d_maxpool` to apply convolution then max pooling:\n",
    "* Create the weight and bias using `conv_ksize`, `conv_num_outputs` and the shape of `x_tensor`.\n",
    "* Apply a convolution to `x_tensor` using weight and `conv_strides`.\n",
    " * We recommend you use same padding, but you're welcome to use any padding.\n",
    "* Add bias\n",
    "* Add a nonlinear activation to the convolution.\n",
    "* Apply Max Pooling using `pool_ksize` and `pool_strides`.\n",
    " * We recommend you use same padding, but you're welcome to use any padding.\n",
    "\n",
    "**Note:** You **can't** use [TensorFlow Layers](https://www.tensorflow.org/api_docs/python/tf/layers) or [TensorFlow Layers (contrib)](https://www.tensorflow.org/api_guides/python/contrib.layers) for **this** layer, but you can still use TensorFlow's [Neural Network](https://www.tensorflow.org/api_docs/python/tf/nn) package. You may still use the shortcut option for all the **other** layers."
   ]
  },
  {
   "cell_type": "code",
   "execution_count": 3,
   "metadata": {
    "collapsed": false,
    "deletable": true,
    "editable": true,
    "scrolled": false
   },
   "outputs": [
    {
     "name": "stdout",
     "output_type": "stream",
     "text": [
      "Tests Passed\n"
     ]
    }
   ],
   "source": [
    "def conv2d_maxpool(x_tensor, conv_num_outputs, conv_ksize, conv_strides, pool_ksize, pool_strides):\n",
    "    \"\"\"\n",
    "    Apply convolution then max pooling to x_tensor\n",
    "    :param x_tensor: TensorFlow Tensor\n",
    "    :param conv_num_outputs: Number of outputs for the convolutional layer\n",
    "    :param conv_ksize: kernel size 2-D Tuple for the convolutional layer\n",
    "    :param conv_strides: Stride 2-D Tuple for convolution\n",
    "    :param pool_ksize: kernel size 2-D Tuple for pool\n",
    "    :param pool_strides: Stride 2-D Tuple for pool\n",
    "    : return: A tensor that represents convolution and max pooling of x_tensor\n",
    "    \"\"\"\n",
    "    \n",
    "    # Set weight and bias\n",
    "    weight = tf.Variable(tf.truncated_normal(conv_ksize + (x_tensor.get_shape().as_list()[-1],) + (conv_num_outputs,)))\n",
    "    bias   = tf.Variable(tf.zeros(conv_num_outputs))\n",
    "\n",
    "    # Apply convolution\n",
    "    conv_layer = tf.nn.conv2d(x_tensor, weight, strides=(1,) + conv_strides + (1,), padding='SAME')\n",
    "    conv_layer = tf.nn.bias_add(conv_layer, bias)\n",
    "    conv_layer = tf.nn.relu(conv_layer)\n",
    "        \n",
    "    # Apply max pooling\n",
    "    conv_layer = tf.nn.max_pool(conv_layer, ksize= (1,) + pool_ksize + (1,), strides=(1,) + pool_strides + (1,), padding='SAME')\n",
    "    \n",
    "    return conv_layer \n",
    "\n",
    "\"\"\"\n",
    "DON'T MODIFY ANYTHING IN THIS CELL THAT IS BELOW THIS LINE\n",
    "\"\"\"\n",
    "tests.test_con_pool(conv2d_maxpool)"
   ]
  },
  {
   "cell_type": "markdown",
   "metadata": {
    "deletable": true,
    "editable": true
   },
   "source": [
    "### Flatten Layer\n",
    "Implement the `flatten` function to change the dimension of `x_tensor` from a 4-D tensor to a 2-D tensor.  The output should be the shape (*Batch Size*, *Flattened Image Size*). Shortcut option: you can use classes from the [TensorFlow Layers](https://www.tensorflow.org/api_docs/python/tf/layers) or [TensorFlow Layers (contrib)](https://www.tensorflow.org/api_guides/python/contrib.layers) packages for this layer. For more of a challenge, only use other TensorFlow packages."
   ]
  },
  {
   "cell_type": "code",
   "execution_count": 4,
   "metadata": {
    "collapsed": false,
    "deletable": true,
    "editable": true
   },
   "outputs": [
    {
     "name": "stdout",
     "output_type": "stream",
     "text": [
      "Tests Passed\n"
     ]
    }
   ],
   "source": [
    "def flatten(x_tensor):\n",
    "    \"\"\"\n",
    "    Flatten x_tensor to (Batch Size, Flattened Image Size)\n",
    "    : x_tensor: A tensor of size (Batch Size, ...), where ... are the image dimensions.\n",
    "    : return: A tensor of size (Batch Size, Flattened Image Size).\n",
    "    \"\"\"\n",
    "    return tf.contrib.layers.flatten(x_tensor)\n",
    "\n",
    "\n",
    "\"\"\"\n",
    "DON'T MODIFY ANYTHING IN THIS CELL THAT IS BELOW THIS LINE\n",
    "\"\"\"\n",
    "tests.test_flatten(flatten)"
   ]
  },
  {
   "cell_type": "markdown",
   "metadata": {
    "deletable": true,
    "editable": true
   },
   "source": [
    "### Fully-Connected Layer\n",
    "Implement the `fully_conn` function to apply a fully connected layer to `x_tensor` with the shape (*Batch Size*, *num_outputs*). Shortcut option: you can use classes from the [TensorFlow Layers](https://www.tensorflow.org/api_docs/python/tf/layers) or [TensorFlow Layers (contrib)](https://www.tensorflow.org/api_guides/python/contrib.layers) packages for this layer. For more of a challenge, only use other TensorFlow packages."
   ]
  },
  {
   "cell_type": "code",
   "execution_count": 5,
   "metadata": {
    "collapsed": false,
    "deletable": true,
    "editable": true
   },
   "outputs": [
    {
     "name": "stdout",
     "output_type": "stream",
     "text": [
      "Tests Passed\n"
     ]
    }
   ],
   "source": [
    "def fully_conn(x_tensor, num_outputs):\n",
    "    \"\"\"\n",
    "    Apply a fully connected layer to x_tensor using weight and bias\n",
    "    : x_tensor: A 2-D tensor where the first dimension is batch size.\n",
    "    : num_outputs: The number of output that the new tensor should be.\n",
    "    : return: A 2-D tensor where the second dimension is num_outputs.\n",
    "    \"\"\"\n",
    "    return tf.contrib.layers.fully_connected(inputs=x_tensor, num_outputs=num_outputs, activation_fn=tf.nn.relu)\n",
    "\n",
    "\n",
    "\"\"\"\n",
    "DON'T MODIFY ANYTHING IN THIS CELL THAT IS BELOW THIS LINE\n",
    "\"\"\"\n",
    "tests.test_fully_conn(fully_conn)"
   ]
  },
  {
   "cell_type": "markdown",
   "metadata": {
    "deletable": true,
    "editable": true
   },
   "source": [
    "### Output Layer\n",
    "Implement the `output` function to apply a fully connected layer to `x_tensor` with the shape (*Batch Size*, *num_outputs*). Shortcut option: you can use classes from the [TensorFlow Layers](https://www.tensorflow.org/api_docs/python/tf/layers) or [TensorFlow Layers (contrib)](https://www.tensorflow.org/api_guides/python/contrib.layers) packages for this layer. For more of a challenge, only use other TensorFlow packages.\n",
    "\n",
    "**Note:** Activation, softmax, or cross entropy should **not** be applied to this."
   ]
  },
  {
   "cell_type": "code",
   "execution_count": 28,
   "metadata": {
    "collapsed": false,
    "deletable": true,
    "editable": true
   },
   "outputs": [
    {
     "name": "stdout",
     "output_type": "stream",
     "text": [
      "Tests Passed\n"
     ]
    }
   ],
   "source": [
    "def output(x_tensor, num_outputs):\n",
    "    \"\"\"\n",
    "    Apply a output layer to x_tensor using weight and bias\n",
    "    : x_tensor: A 2-D tensor where the first dimension is batch size.\n",
    "    : num_outputs: The number of output that the new tensor should be.\n",
    "    : return: A 2-D tensor where the second dimension is num_outputs.\n",
    "    \"\"\"\n",
    "    \n",
    "    num_inputs = np.array(x_tensor.get_shape().as_list()[1:]).prod()\n",
    "    weights    = tf.Variable(tf.truncated_normal([num_inputs, num_outputs], stddev=0.1))\n",
    "    bias       = tf.Variable(tf.zeros([num_outputs]))\n",
    "    out        = tf.add(tf.matmul(x_tensor, weights), bias)\n",
    "    return out\n",
    "           \n",
    "\"\"\"\n",
    "DON'T MODIFY ANYTHING IN THIS CELL THAT IS BELOW THIS LINE\n",
    "\"\"\"\n",
    "tests.test_output(output)"
   ]
  },
  {
   "cell_type": "markdown",
   "metadata": {
    "deletable": true,
    "editable": true
   },
   "source": [
    "### Create Convolutional Model\n",
    "Implement the function `conv_net` to create a convolutional neural network model. The function takes in a batch of images, `x`, and outputs logits.  Use the layers you created above to create this model:\n",
    "\n",
    "* Apply 1, 2, or 3 Convolution and Max Pool layers\n",
    "* Apply a Flatten Layer\n",
    "* Apply 1, 2, or 3 Fully Connected Layers\n",
    "* Apply an Output Layer\n",
    "* Return the output\n",
    "* Apply [TensorFlow's Dropout](https://www.tensorflow.org/api_docs/python/tf/nn/dropout) to one or more layers in the model using `keep_prob`. "
   ]
  },
  {
   "cell_type": "code",
   "execution_count": 54,
   "metadata": {
    "collapsed": false,
    "deletable": true,
    "editable": true
   },
   "outputs": [
    {
     "name": "stdout",
     "output_type": "stream",
     "text": [
      "Neural Network Built!\n"
     ]
    }
   ],
   "source": [
    "def conv_net(x, keep_prob, num_classes=10):\n",
    "    \"\"\"\n",
    "    Create a convolutional neural network model\n",
    "    : x: Placeholder tensor that holds image data.\n",
    "    : keep_prob: Placeholder tensor that hold dropout keep probability.\n",
    "    : return: Tensor that represents logits\n",
    "    \"\"\"\n",
    "\n",
    "    # Convoltion layers:\n",
    "    net = conv2d_maxpool(x,   conv_num_outputs=16, conv_ksize=(4,4), conv_strides=(1,1), pool_ksize=(3,3), pool_strides=(2,2))\n",
    "    net = conv2d_maxpool(net, conv_num_outputs=32, conv_ksize=(4,4), conv_strides=(1,1), pool_ksize=(3,3), pool_strides=(2,2))\n",
    "    \n",
    "    # Flatten:\n",
    "    net = flatten(net)\n",
    "    \n",
    "    # Dropout:\n",
    "    # net= tf.nn.dropout(net, keep_prob)\n",
    "    \n",
    "    # Fully-connected layers:\n",
    "    net = fully_conn(net, 128)\n",
    "    net = fully_conn(net, 64)\n",
    "    \n",
    "    # Dropout:\n",
    "    net = tf.nn.dropout(net, keep_prob)\n",
    "    \n",
    "    # Output Layer.\n",
    "    net = output(net, num_classes)\n",
    "    \n",
    "    return net\n",
    "\n",
    "\n",
    "\"\"\"\n",
    "DON'T MODIFY ANYTHING IN THIS CELL THAT IS BELOW THIS LINE\n",
    "\"\"\"\n",
    "\n",
    "##############################\n",
    "## Build the Neural Network ##\n",
    "##############################\n",
    "\n",
    "# Remove previous weights, bias, inputs, etc..\n",
    "tf.reset_default_graph()\n",
    "\n",
    "# Inputs\n",
    "x = neural_net_image_input((32, 32, 3))\n",
    "y = neural_net_label_input(10)\n",
    "keep_prob = neural_net_keep_prob_input()\n",
    "\n",
    "# Model\n",
    "logits = conv_net(x, keep_prob)\n",
    "\n",
    "# Name logits Tensor, so that is can be loaded from disk after training\n",
    "logits = tf.identity(logits, name='logits')\n",
    "\n",
    "# Loss and Optimizer\n",
    "cost = tf.reduce_mean(tf.nn.softmax_cross_entropy_with_logits(logits=logits, labels=y))\n",
    "optimizer = tf.train.AdamOptimizer().minimize(cost)\n",
    "\n",
    "# Accuracy\n",
    "correct_pred = tf.equal(tf.argmax(logits, 1), tf.argmax(y, 1))\n",
    "accuracy = tf.reduce_mean(tf.cast(correct_pred, tf.float32), name='accuracy')\n",
    "\n",
    "tests.test_conv_net(conv_net)"
   ]
  },
  {
   "cell_type": "markdown",
   "metadata": {
    "deletable": true,
    "editable": true
   },
   "source": [
    "## Train the Neural Network\n",
    "### Single Optimization\n",
    "Implement the function `train_neural_network` to do a single optimization.  The optimization should use `optimizer` to optimize in `session` with a `feed_dict` of the following:\n",
    "* `x` for image input\n",
    "* `y` for labels\n",
    "* `keep_prob` for keep probability for dropout\n",
    "\n",
    "This function will be called for each batch, so `tf.global_variables_initializer()` has already been called.\n",
    "\n",
    "Note: Nothing needs to be returned. This function is only optimizing the neural network."
   ]
  },
  {
   "cell_type": "code",
   "execution_count": 55,
   "metadata": {
    "collapsed": false,
    "deletable": true,
    "editable": true
   },
   "outputs": [
    {
     "name": "stdout",
     "output_type": "stream",
     "text": [
      "Tests Passed\n"
     ]
    }
   ],
   "source": [
    "def train_neural_network(session, optimizer, keep_probability, feature_batch, label_batch):\n",
    "    \"\"\"\n",
    "    Optimize the session on a batch of images and labels\n",
    "    : session: Current TensorFlow session\n",
    "    : optimizer: TensorFlow optimizer function\n",
    "    : keep_probability: keep probability\n",
    "    : feature_batch: Batch of Numpy image data\n",
    "    : label_batch: Batch of Numpy label data\n",
    "    \"\"\"\n",
    "\n",
    "    session.run(optimizer, feed_dict={\n",
    "               x: feature_batch,\n",
    "               y: label_batch,\n",
    "               keep_prob: keep_probability})\n",
    "\n",
    "    pass\n",
    "\n",
    "\n",
    "\"\"\"\n",
    "DON'T MODIFY ANYTHING IN THIS CELL THAT IS BELOW THIS LINE\n",
    "\"\"\"\n",
    "tests.test_train_nn(train_neural_network)"
   ]
  },
  {
   "cell_type": "markdown",
   "metadata": {
    "deletable": true,
    "editable": true
   },
   "source": [
    "### Show Stats\n",
    "Implement the function `print_stats` to print loss and validation accuracy.  Use the global variables `valid_features` and `valid_labels` to calculate validation accuracy.  Use a keep probability of `1.0` to calculate the loss and validation accuracy."
   ]
  },
  {
   "cell_type": "code",
   "execution_count": 56,
   "metadata": {
    "collapsed": false,
    "deletable": true,
    "editable": true
   },
   "outputs": [],
   "source": [
    "def print_stats(session, feature_batch, label_batch, cost, accuracy):\n",
    "    \"\"\"\n",
    "    Print information about loss and validation accuracy\n",
    "    : session: Current TensorFlow session\n",
    "    : feature_batch: Batch of Numpy image data\n",
    "    : label_batch: Batch of Numpy label data\n",
    "    : cost: TensorFlow cost function\n",
    "    : accuracy: TensorFlow accuracy function\n",
    "    \"\"\"\n",
    "    loss      = sess.run(cost, feed_dict={x: feature_batch, y: label_batch, keep_prob: 1.})\n",
    "    valid_acc = sess.run(accuracy, feed_dict={x: valid_features, y: valid_labels, keep_prob: 1.})\n",
    "\n",
    "    print('loss: {:>10.4f}, validation Accuracy: {:.6f}'.format(loss, valid_acc))    \n",
    "    pass"
   ]
  },
  {
   "cell_type": "markdown",
   "metadata": {
    "deletable": true,
    "editable": true
   },
   "source": [
    "### Hyperparameters\n",
    "Tune the following parameters:\n",
    "* Set `epochs` to the number of iterations until the network stops learning or start overfitting\n",
    "* Set `batch_size` to the highest number that your machine has memory for.  Most people set them to common sizes of memory:\n",
    " * 64\n",
    " * 128\n",
    " * 256\n",
    " * ...\n",
    "* Set `keep_probability` to the probability of keeping a node using dropout"
   ]
  },
  {
   "cell_type": "code",
   "execution_count": 57,
   "metadata": {
    "collapsed": true,
    "deletable": true,
    "editable": true
   },
   "outputs": [],
   "source": [
    "# TODO: Tune Parameters\n",
    "epochs = 60\n",
    "batch_size = 256\n",
    "keep_probability = 0.8"
   ]
  },
  {
   "cell_type": "markdown",
   "metadata": {
    "deletable": true,
    "editable": true
   },
   "source": [
    "### Train on a Single CIFAR-10 Batch\n",
    "Instead of training the neural network on all the CIFAR-10 batches of data, let's use a single batch. This should save time while you iterate on the model to get a better accuracy.  Once the final validation accuracy is 50% or greater, run the model on all the data in the next section."
   ]
  },
  {
   "cell_type": "code",
   "execution_count": 58,
   "metadata": {
    "collapsed": false,
    "deletable": true,
    "editable": true,
    "scrolled": false
   },
   "outputs": [
    {
     "name": "stdout",
     "output_type": "stream",
     "text": [
      "Checking the Training on a Single Batch...\n",
      "Epoch  1, CIFAR-10 Batch 2:  loss:     2.2580, validation Accuracy: 0.133800\n",
      "Epoch  2, CIFAR-10 Batch 2:  loss:     2.2519, validation Accuracy: 0.126200\n",
      "Epoch  3, CIFAR-10 Batch 2:  loss:     2.2390, validation Accuracy: 0.181200\n",
      "Epoch  4, CIFAR-10 Batch 2:  loss:     2.2041, validation Accuracy: 0.217800\n",
      "Epoch  5, CIFAR-10 Batch 2:  loss:     2.1475, validation Accuracy: 0.227200\n",
      "Epoch  6, CIFAR-10 Batch 2:  loss:     2.0690, validation Accuracy: 0.242600\n",
      "Epoch  7, CIFAR-10 Batch 2:  loss:     1.9931, validation Accuracy: 0.262400\n",
      "Epoch  8, CIFAR-10 Batch 2:  loss:     1.9100, validation Accuracy: 0.272200\n",
      "Epoch  9, CIFAR-10 Batch 2:  loss:     1.8103, validation Accuracy: 0.284400\n",
      "Epoch 10, CIFAR-10 Batch 2:  loss:     1.7103, validation Accuracy: 0.335000\n",
      "Epoch 11, CIFAR-10 Batch 2:  loss:     1.6549, validation Accuracy: 0.332800\n",
      "Epoch 12, CIFAR-10 Batch 2:  loss:     1.5768, validation Accuracy: 0.352800\n",
      "Epoch 13, CIFAR-10 Batch 2:  loss:     1.5245, validation Accuracy: 0.348200\n",
      "Epoch 14, CIFAR-10 Batch 2:  loss:     1.5506, validation Accuracy: 0.360600\n",
      "Epoch 15, CIFAR-10 Batch 2:  loss:     1.4266, validation Accuracy: 0.394000\n",
      "Epoch 16, CIFAR-10 Batch 2:  loss:     1.4004, validation Accuracy: 0.380400\n",
      "Epoch 17, CIFAR-10 Batch 2:  loss:     1.3983, validation Accuracy: 0.381400\n",
      "Epoch 18, CIFAR-10 Batch 2:  loss:     1.3424, validation Accuracy: 0.389000\n",
      "Epoch 19, CIFAR-10 Batch 2:  loss:     1.3048, validation Accuracy: 0.397600\n",
      "Epoch 20, CIFAR-10 Batch 2:  loss:     1.1952, validation Accuracy: 0.394200\n",
      "Epoch 21, CIFAR-10 Batch 2:  loss:     1.1826, validation Accuracy: 0.413400\n",
      "Epoch 22, CIFAR-10 Batch 2:  loss:     1.1477, validation Accuracy: 0.434400\n",
      "Epoch 23, CIFAR-10 Batch 2:  loss:     1.1093, validation Accuracy: 0.423400\n",
      "Epoch 24, CIFAR-10 Batch 2:  loss:     1.0197, validation Accuracy: 0.440800\n",
      "Epoch 25, CIFAR-10 Batch 2:  loss:     0.9252, validation Accuracy: 0.459800\n",
      "Epoch 26, CIFAR-10 Batch 2:  loss:     0.8749, validation Accuracy: 0.446800\n",
      "Epoch 27, CIFAR-10 Batch 2:  loss:     0.8370, validation Accuracy: 0.458200\n",
      "Epoch 28, CIFAR-10 Batch 2:  loss:     0.8682, validation Accuracy: 0.461400\n",
      "Epoch 29, CIFAR-10 Batch 2:  loss:     0.7801, validation Accuracy: 0.448200\n",
      "Epoch 30, CIFAR-10 Batch 2:  loss:     0.7822, validation Accuracy: 0.444200\n",
      "Epoch 31, CIFAR-10 Batch 2:  loss:     0.7411, validation Accuracy: 0.461600\n",
      "Epoch 32, CIFAR-10 Batch 2:  loss:     0.7740, validation Accuracy: 0.461600\n",
      "Epoch 33, CIFAR-10 Batch 2:  loss:     0.6752, validation Accuracy: 0.478200\n",
      "Epoch 34, CIFAR-10 Batch 2:  loss:     0.6356, validation Accuracy: 0.480600\n",
      "Epoch 35, CIFAR-10 Batch 2:  loss:     0.6055, validation Accuracy: 0.483600\n",
      "Epoch 36, CIFAR-10 Batch 2:  loss:     0.5936, validation Accuracy: 0.481800\n",
      "Epoch 37, CIFAR-10 Batch 2:  loss:     0.6252, validation Accuracy: 0.483800\n",
      "Epoch 38, CIFAR-10 Batch 2:  loss:     0.6306, validation Accuracy: 0.482400\n",
      "Epoch 39, CIFAR-10 Batch 2:  loss:     0.5024, validation Accuracy: 0.502000\n",
      "Epoch 40, CIFAR-10 Batch 2:  loss:     0.5479, validation Accuracy: 0.489400\n",
      "Epoch 41, CIFAR-10 Batch 2:  loss:     0.5382, validation Accuracy: 0.488000\n",
      "Epoch 42, CIFAR-10 Batch 2:  loss:     0.4977, validation Accuracy: 0.487200\n",
      "Epoch 43, CIFAR-10 Batch 2:  loss:     0.4534, validation Accuracy: 0.501200\n",
      "Epoch 44, CIFAR-10 Batch 2:  loss:     0.4428, validation Accuracy: 0.491600\n",
      "Epoch 45, CIFAR-10 Batch 2:  loss:     0.4096, validation Accuracy: 0.505000\n",
      "Epoch 46, CIFAR-10 Batch 2:  loss:     0.4058, validation Accuracy: 0.506600\n",
      "Epoch 47, CIFAR-10 Batch 2:  loss:     0.4609, validation Accuracy: 0.486000\n",
      "Epoch 48, CIFAR-10 Batch 2:  loss:     0.4036, validation Accuracy: 0.491200\n",
      "Epoch 49, CIFAR-10 Batch 2:  loss:     0.4463, validation Accuracy: 0.473000\n",
      "Epoch 50, CIFAR-10 Batch 2:  loss:     0.3539, validation Accuracy: 0.500400\n",
      "Epoch 51, CIFAR-10 Batch 2:  loss:     0.3684, validation Accuracy: 0.496000\n",
      "Epoch 52, CIFAR-10 Batch 2:  loss:     0.4004, validation Accuracy: 0.458400\n",
      "Epoch 53, CIFAR-10 Batch 2:  loss:     0.3227, validation Accuracy: 0.495800\n",
      "Epoch 54, CIFAR-10 Batch 2:  loss:     0.3254, validation Accuracy: 0.484000\n",
      "Epoch 55, CIFAR-10 Batch 2:  loss:     0.2774, validation Accuracy: 0.497200\n",
      "Epoch 56, CIFAR-10 Batch 2:  loss:     0.2966, validation Accuracy: 0.499600\n",
      "Epoch 57, CIFAR-10 Batch 2:  loss:     0.2411, validation Accuracy: 0.496200\n",
      "Epoch 58, CIFAR-10 Batch 2:  loss:     0.2208, validation Accuracy: 0.514200\n",
      "Epoch 59, CIFAR-10 Batch 2:  loss:     0.1941, validation Accuracy: 0.503200\n",
      "Epoch 60, CIFAR-10 Batch 2:  loss:     0.2492, validation Accuracy: 0.497800\n"
     ]
    }
   ],
   "source": [
    "\"\"\"\n",
    "DON'T MODIFY ANYTHING IN THIS CELL\n",
    "\"\"\"\n",
    "print('Checking the Training on a Single Batch...')\n",
    "with tf.Session() as sess:\n",
    "    # Initializing the variables\n",
    "    sess.run(tf.global_variables_initializer())\n",
    "    \n",
    "    # Training cycle\n",
    "    for epoch in range(epochs):\n",
    "        batch_i = 2\n",
    "        for batch_features, batch_labels in helper.load_preprocess_training_batch(batch_i, batch_size):\n",
    "            train_neural_network(sess, optimizer, keep_probability, batch_features, batch_labels)\n",
    "        print('Epoch {:>2}, CIFAR-10 Batch {}:  '.format(epoch + 1, batch_i), end='')\n",
    "        print_stats(sess, batch_features, batch_labels, cost, accuracy)"
   ]
  },
  {
   "cell_type": "markdown",
   "metadata": {
    "deletable": true,
    "editable": true
   },
   "source": [
    "### Fully Train the Model\n",
    "Now that you got a good accuracy with a single CIFAR-10 batch, try it with all five batches."
   ]
  },
  {
   "cell_type": "code",
   "execution_count": 59,
   "metadata": {
    "collapsed": false,
    "deletable": true,
    "editable": true,
    "scrolled": false
   },
   "outputs": [
    {
     "name": "stdout",
     "output_type": "stream",
     "text": [
      "Training...\n",
      "Epoch  1, CIFAR-10 Batch 1:  loss:     2.2955, validation Accuracy: 0.116200\n",
      "Epoch  1, CIFAR-10 Batch 2:  loss:     2.1624, validation Accuracy: 0.153800\n",
      "Epoch  1, CIFAR-10 Batch 3:  loss:     2.1305, validation Accuracy: 0.167000\n",
      "Epoch  1, CIFAR-10 Batch 4:  loss:     2.1896, validation Accuracy: 0.135400\n",
      "Epoch  1, CIFAR-10 Batch 5:  loss:     2.1588, validation Accuracy: 0.192800\n",
      "Epoch  2, CIFAR-10 Batch 1:  loss:     2.1791, validation Accuracy: 0.194400\n",
      "Epoch  2, CIFAR-10 Batch 2:  loss:     2.0451, validation Accuracy: 0.222200\n",
      "Epoch  2, CIFAR-10 Batch 3:  loss:     1.8062, validation Accuracy: 0.266200\n",
      "Epoch  2, CIFAR-10 Batch 4:  loss:     1.9756, validation Accuracy: 0.256200\n",
      "Epoch  2, CIFAR-10 Batch 5:  loss:     1.7532, validation Accuracy: 0.305400\n",
      "Epoch  3, CIFAR-10 Batch 1:  loss:     1.9529, validation Accuracy: 0.277000\n",
      "Epoch  3, CIFAR-10 Batch 2:  loss:     1.8285, validation Accuracy: 0.306600\n",
      "Epoch  3, CIFAR-10 Batch 3:  loss:     1.5275, validation Accuracy: 0.333200\n",
      "Epoch  3, CIFAR-10 Batch 4:  loss:     1.7961, validation Accuracy: 0.326600\n",
      "Epoch  3, CIFAR-10 Batch 5:  loss:     1.5906, validation Accuracy: 0.341400\n",
      "Epoch  4, CIFAR-10 Batch 1:  loss:     1.8368, validation Accuracy: 0.345200\n",
      "Epoch  4, CIFAR-10 Batch 2:  loss:     1.7639, validation Accuracy: 0.342200\n",
      "Epoch  4, CIFAR-10 Batch 3:  loss:     1.5470, validation Accuracy: 0.330800\n",
      "Epoch  4, CIFAR-10 Batch 4:  loss:     1.6368, validation Accuracy: 0.365400\n",
      "Epoch  4, CIFAR-10 Batch 5:  loss:     1.5892, validation Accuracy: 0.380800\n",
      "Epoch  5, CIFAR-10 Batch 1:  loss:     1.6717, validation Accuracy: 0.390400\n",
      "Epoch  5, CIFAR-10 Batch 2:  loss:     1.5742, validation Accuracy: 0.415200\n",
      "Epoch  5, CIFAR-10 Batch 3:  loss:     1.3533, validation Accuracy: 0.417400\n",
      "Epoch  5, CIFAR-10 Batch 4:  loss:     1.4113, validation Accuracy: 0.451200\n",
      "Epoch  5, CIFAR-10 Batch 5:  loss:     1.4923, validation Accuracy: 0.429400\n",
      "Epoch  6, CIFAR-10 Batch 1:  loss:     1.6646, validation Accuracy: 0.454000\n",
      "Epoch  6, CIFAR-10 Batch 2:  loss:     1.3764, validation Accuracy: 0.457600\n",
      "Epoch  6, CIFAR-10 Batch 3:  loss:     1.2364, validation Accuracy: 0.416200\n",
      "Epoch  6, CIFAR-10 Batch 4:  loss:     1.3184, validation Accuracy: 0.452000\n",
      "Epoch  6, CIFAR-10 Batch 5:  loss:     1.3944, validation Accuracy: 0.416600\n",
      "Epoch  7, CIFAR-10 Batch 1:  loss:     1.5033, validation Accuracy: 0.490800\n",
      "Epoch  7, CIFAR-10 Batch 2:  loss:     1.2280, validation Accuracy: 0.476000\n",
      "Epoch  7, CIFAR-10 Batch 3:  loss:     1.1684, validation Accuracy: 0.465000\n",
      "Epoch  7, CIFAR-10 Batch 4:  loss:     1.2497, validation Accuracy: 0.485600\n",
      "Epoch  7, CIFAR-10 Batch 5:  loss:     1.2769, validation Accuracy: 0.458200\n",
      "Epoch  8, CIFAR-10 Batch 1:  loss:     1.3867, validation Accuracy: 0.501600\n",
      "Epoch  8, CIFAR-10 Batch 2:  loss:     1.1407, validation Accuracy: 0.486200\n",
      "Epoch  8, CIFAR-10 Batch 3:  loss:     1.0709, validation Accuracy: 0.499000\n",
      "Epoch  8, CIFAR-10 Batch 4:  loss:     1.1422, validation Accuracy: 0.498800\n",
      "Epoch  8, CIFAR-10 Batch 5:  loss:     1.1968, validation Accuracy: 0.503000\n",
      "Epoch  9, CIFAR-10 Batch 1:  loss:     1.3304, validation Accuracy: 0.496800\n",
      "Epoch  9, CIFAR-10 Batch 2:  loss:     1.0235, validation Accuracy: 0.492000\n",
      "Epoch  9, CIFAR-10 Batch 3:  loss:     1.0037, validation Accuracy: 0.523200\n",
      "Epoch  9, CIFAR-10 Batch 4:  loss:     1.0686, validation Accuracy: 0.516600\n",
      "Epoch  9, CIFAR-10 Batch 5:  loss:     1.0238, validation Accuracy: 0.520600\n",
      "Epoch 10, CIFAR-10 Batch 1:  loss:     1.1723, validation Accuracy: 0.511000\n",
      "Epoch 10, CIFAR-10 Batch 2:  loss:     0.9464, validation Accuracy: 0.515000\n",
      "Epoch 10, CIFAR-10 Batch 3:  loss:     0.9504, validation Accuracy: 0.518000\n",
      "Epoch 10, CIFAR-10 Batch 4:  loss:     0.9737, validation Accuracy: 0.528200\n",
      "Epoch 10, CIFAR-10 Batch 5:  loss:     1.0413, validation Accuracy: 0.531000\n",
      "Epoch 11, CIFAR-10 Batch 1:  loss:     1.0807, validation Accuracy: 0.549600\n",
      "Epoch 11, CIFAR-10 Batch 2:  loss:     0.8345, validation Accuracy: 0.529000\n",
      "Epoch 11, CIFAR-10 Batch 3:  loss:     0.8231, validation Accuracy: 0.518200\n",
      "Epoch 11, CIFAR-10 Batch 4:  loss:     1.0278, validation Accuracy: 0.533600\n",
      "Epoch 11, CIFAR-10 Batch 5:  loss:     0.9717, validation Accuracy: 0.544000\n",
      "Epoch 12, CIFAR-10 Batch 1:  loss:     1.0102, validation Accuracy: 0.556200\n",
      "Epoch 12, CIFAR-10 Batch 2:  loss:     0.8032, validation Accuracy: 0.530600\n",
      "Epoch 12, CIFAR-10 Batch 3:  loss:     0.7880, validation Accuracy: 0.555000\n",
      "Epoch 12, CIFAR-10 Batch 4:  loss:     0.9066, validation Accuracy: 0.549400\n",
      "Epoch 12, CIFAR-10 Batch 5:  loss:     0.9002, validation Accuracy: 0.561000\n",
      "Epoch 13, CIFAR-10 Batch 1:  loss:     0.9734, validation Accuracy: 0.563400\n",
      "Epoch 13, CIFAR-10 Batch 2:  loss:     0.7716, validation Accuracy: 0.543600\n",
      "Epoch 13, CIFAR-10 Batch 3:  loss:     0.6934, validation Accuracy: 0.557400\n",
      "Epoch 13, CIFAR-10 Batch 4:  loss:     0.8838, validation Accuracy: 0.550000\n",
      "Epoch 13, CIFAR-10 Batch 5:  loss:     0.7920, validation Accuracy: 0.569200\n",
      "Epoch 14, CIFAR-10 Batch 1:  loss:     0.8651, validation Accuracy: 0.573200\n",
      "Epoch 14, CIFAR-10 Batch 2:  loss:     0.6858, validation Accuracy: 0.562000\n",
      "Epoch 14, CIFAR-10 Batch 3:  loss:     0.7008, validation Accuracy: 0.566000\n",
      "Epoch 14, CIFAR-10 Batch 4:  loss:     0.8162, validation Accuracy: 0.579200\n",
      "Epoch 14, CIFAR-10 Batch 5:  loss:     0.7589, validation Accuracy: 0.577200\n",
      "Epoch 15, CIFAR-10 Batch 1:  loss:     0.7990, validation Accuracy: 0.582200\n",
      "Epoch 15, CIFAR-10 Batch 2:  loss:     0.6427, validation Accuracy: 0.556600\n",
      "Epoch 15, CIFAR-10 Batch 3:  loss:     0.6616, validation Accuracy: 0.570400\n",
      "Epoch 15, CIFAR-10 Batch 4:  loss:     0.7858, validation Accuracy: 0.575800\n",
      "Epoch 15, CIFAR-10 Batch 5:  loss:     0.7151, validation Accuracy: 0.574000\n",
      "Epoch 16, CIFAR-10 Batch 1:  loss:     0.8118, validation Accuracy: 0.571000\n",
      "Epoch 16, CIFAR-10 Batch 2:  loss:     0.5998, validation Accuracy: 0.566400\n",
      "Epoch 16, CIFAR-10 Batch 3:  loss:     0.6333, validation Accuracy: 0.560000\n",
      "Epoch 16, CIFAR-10 Batch 4:  loss:     0.7531, validation Accuracy: 0.584800\n",
      "Epoch 16, CIFAR-10 Batch 5:  loss:     0.7017, validation Accuracy: 0.590600\n",
      "Epoch 17, CIFAR-10 Batch 1:  loss:     0.7408, validation Accuracy: 0.565400\n",
      "Epoch 17, CIFAR-10 Batch 2:  loss:     0.5444, validation Accuracy: 0.581400\n",
      "Epoch 17, CIFAR-10 Batch 3:  loss:     0.6475, validation Accuracy: 0.576800\n",
      "Epoch 17, CIFAR-10 Batch 4:  loss:     0.6942, validation Accuracy: 0.590000\n",
      "Epoch 17, CIFAR-10 Batch 5:  loss:     0.6211, validation Accuracy: 0.604800\n",
      "Epoch 18, CIFAR-10 Batch 1:  loss:     0.6783, validation Accuracy: 0.587200\n",
      "Epoch 18, CIFAR-10 Batch 2:  loss:     0.5331, validation Accuracy: 0.588000\n",
      "Epoch 18, CIFAR-10 Batch 3:  loss:     0.6047, validation Accuracy: 0.578200\n",
      "Epoch 18, CIFAR-10 Batch 4:  loss:     0.6623, validation Accuracy: 0.590200\n",
      "Epoch 18, CIFAR-10 Batch 5:  loss:     0.6039, validation Accuracy: 0.600800\n",
      "Epoch 19, CIFAR-10 Batch 1:  loss:     0.6769, validation Accuracy: 0.589000\n",
      "Epoch 19, CIFAR-10 Batch 2:  loss:     0.4972, validation Accuracy: 0.591000\n",
      "Epoch 19, CIFAR-10 Batch 3:  loss:     0.5547, validation Accuracy: 0.573600\n",
      "Epoch 19, CIFAR-10 Batch 4:  loss:     0.6382, validation Accuracy: 0.598000\n",
      "Epoch 19, CIFAR-10 Batch 5:  loss:     0.5732, validation Accuracy: 0.598800\n",
      "Epoch 20, CIFAR-10 Batch 1:  loss:     0.6214, validation Accuracy: 0.595400\n",
      "Epoch 20, CIFAR-10 Batch 2:  loss:     0.4388, validation Accuracy: 0.592800\n",
      "Epoch 20, CIFAR-10 Batch 3:  loss:     0.5111, validation Accuracy: 0.574000\n",
      "Epoch 20, CIFAR-10 Batch 4:  loss:     0.5654, validation Accuracy: 0.599800\n",
      "Epoch 20, CIFAR-10 Batch 5:  loss:     0.5213, validation Accuracy: 0.604800\n",
      "Epoch 21, CIFAR-10 Batch 1:  loss:     0.5840, validation Accuracy: 0.601800\n",
      "Epoch 21, CIFAR-10 Batch 2:  loss:     0.4554, validation Accuracy: 0.590200\n",
      "Epoch 21, CIFAR-10 Batch 3:  loss:     0.5053, validation Accuracy: 0.583400\n",
      "Epoch 21, CIFAR-10 Batch 4:  loss:     0.5437, validation Accuracy: 0.605200\n",
      "Epoch 21, CIFAR-10 Batch 5:  loss:     0.5255, validation Accuracy: 0.603600\n",
      "Epoch 22, CIFAR-10 Batch 1:  loss:     0.6062, validation Accuracy: 0.587600\n",
      "Epoch 22, CIFAR-10 Batch 2:  loss:     0.4421, validation Accuracy: 0.599600\n",
      "Epoch 22, CIFAR-10 Batch 3:  loss:     0.4974, validation Accuracy: 0.588200\n",
      "Epoch 22, CIFAR-10 Batch 4:  loss:     0.5023, validation Accuracy: 0.611600\n",
      "Epoch 22, CIFAR-10 Batch 5:  loss:     0.4879, validation Accuracy: 0.604000\n",
      "Epoch 23, CIFAR-10 Batch 1:  loss:     0.6064, validation Accuracy: 0.609600\n",
      "Epoch 23, CIFAR-10 Batch 2:  loss:     0.3877, validation Accuracy: 0.597400\n",
      "Epoch 23, CIFAR-10 Batch 3:  loss:     0.4436, validation Accuracy: 0.585400\n",
      "Epoch 23, CIFAR-10 Batch 4:  loss:     0.5093, validation Accuracy: 0.613200\n",
      "Epoch 23, CIFAR-10 Batch 5:  loss:     0.4361, validation Accuracy: 0.605800\n",
      "Epoch 24, CIFAR-10 Batch 1:  loss:     0.5700, validation Accuracy: 0.602600\n",
      "Epoch 24, CIFAR-10 Batch 2:  loss:     0.3598, validation Accuracy: 0.591800\n",
      "Epoch 24, CIFAR-10 Batch 3:  loss:     0.4193, validation Accuracy: 0.592200\n",
      "Epoch 24, CIFAR-10 Batch 4:  loss:     0.5288, validation Accuracy: 0.606600\n",
      "Epoch 24, CIFAR-10 Batch 5:  loss:     0.4439, validation Accuracy: 0.590600\n",
      "Epoch 25, CIFAR-10 Batch 1:  loss:     0.5630, validation Accuracy: 0.606000\n",
      "Epoch 25, CIFAR-10 Batch 2:  loss:     0.2979, validation Accuracy: 0.605600\n",
      "Epoch 25, CIFAR-10 Batch 3:  loss:     0.3757, validation Accuracy: 0.594600\n",
      "Epoch 25, CIFAR-10 Batch 4:  loss:     0.4712, validation Accuracy: 0.617200\n",
      "Epoch 25, CIFAR-10 Batch 5:  loss:     0.3777, validation Accuracy: 0.612000\n",
      "Epoch 26, CIFAR-10 Batch 1:  loss:     0.5420, validation Accuracy: 0.618600\n",
      "Epoch 26, CIFAR-10 Batch 2:  loss:     0.3219, validation Accuracy: 0.598800\n",
      "Epoch 26, CIFAR-10 Batch 3:  loss:     0.3639, validation Accuracy: 0.595400\n",
      "Epoch 26, CIFAR-10 Batch 4:  loss:     0.4714, validation Accuracy: 0.616800\n",
      "Epoch 26, CIFAR-10 Batch 5:  loss:     0.3526, validation Accuracy: 0.607000\n",
      "Epoch 27, CIFAR-10 Batch 1:  loss:     0.5334, validation Accuracy: 0.629000\n",
      "Epoch 27, CIFAR-10 Batch 2:  loss:     0.3278, validation Accuracy: 0.591800\n",
      "Epoch 27, CIFAR-10 Batch 3:  loss:     0.3547, validation Accuracy: 0.589600\n",
      "Epoch 27, CIFAR-10 Batch 4:  loss:     0.4280, validation Accuracy: 0.615800\n",
      "Epoch 27, CIFAR-10 Batch 5:  loss:     0.3061, validation Accuracy: 0.621400\n",
      "Epoch 28, CIFAR-10 Batch 1:  loss:     0.5564, validation Accuracy: 0.616400\n",
      "Epoch 28, CIFAR-10 Batch 2:  loss:     0.2879, validation Accuracy: 0.607000\n",
      "Epoch 28, CIFAR-10 Batch 3:  loss:     0.2849, validation Accuracy: 0.605000\n",
      "Epoch 28, CIFAR-10 Batch 4:  loss:     0.4292, validation Accuracy: 0.621000\n",
      "Epoch 28, CIFAR-10 Batch 5:  loss:     0.3050, validation Accuracy: 0.619200\n",
      "Epoch 29, CIFAR-10 Batch 1:  loss:     0.5084, validation Accuracy: 0.624400\n",
      "Epoch 29, CIFAR-10 Batch 2:  loss:     0.2881, validation Accuracy: 0.610800\n",
      "Epoch 29, CIFAR-10 Batch 3:  loss:     0.2931, validation Accuracy: 0.594200\n",
      "Epoch 29, CIFAR-10 Batch 4:  loss:     0.4269, validation Accuracy: 0.613200\n",
      "Epoch 29, CIFAR-10 Batch 5:  loss:     0.3142, validation Accuracy: 0.617800\n",
      "Epoch 30, CIFAR-10 Batch 1:  loss:     0.5090, validation Accuracy: 0.622400\n",
      "Epoch 30, CIFAR-10 Batch 2:  loss:     0.2652, validation Accuracy: 0.603200\n",
      "Epoch 30, CIFAR-10 Batch 3:  loss:     0.2731, validation Accuracy: 0.595400\n",
      "Epoch 30, CIFAR-10 Batch 4:  loss:     0.3952, validation Accuracy: 0.625400\n",
      "Epoch 30, CIFAR-10 Batch 5:  loss:     0.2780, validation Accuracy: 0.625000\n",
      "Epoch 31, CIFAR-10 Batch 1:  loss:     0.5212, validation Accuracy: 0.621600\n",
      "Epoch 31, CIFAR-10 Batch 2:  loss:     0.2604, validation Accuracy: 0.602600\n",
      "Epoch 31, CIFAR-10 Batch 3:  loss:     0.2630, validation Accuracy: 0.603200\n",
      "Epoch 31, CIFAR-10 Batch 4:  loss:     0.3851, validation Accuracy: 0.622200\n",
      "Epoch 31, CIFAR-10 Batch 5:  loss:     0.2451, validation Accuracy: 0.621200\n",
      "Epoch 32, CIFAR-10 Batch 1:  loss:     0.4924, validation Accuracy: 0.619200\n",
      "Epoch 32, CIFAR-10 Batch 2:  loss:     0.2171, validation Accuracy: 0.623400\n",
      "Epoch 32, CIFAR-10 Batch 3:  loss:     0.2100, validation Accuracy: 0.603800\n",
      "Epoch 32, CIFAR-10 Batch 4:  loss:     0.3347, validation Accuracy: 0.626000\n",
      "Epoch 32, CIFAR-10 Batch 5:  loss:     0.2229, validation Accuracy: 0.624200\n",
      "Epoch 33, CIFAR-10 Batch 1:  loss:     0.4447, validation Accuracy: 0.626600\n",
      "Epoch 33, CIFAR-10 Batch 2:  loss:     0.1983, validation Accuracy: 0.608600\n",
      "Epoch 33, CIFAR-10 Batch 3:  loss:     0.2149, validation Accuracy: 0.611400\n",
      "Epoch 33, CIFAR-10 Batch 4:  loss:     0.3369, validation Accuracy: 0.623400\n",
      "Epoch 33, CIFAR-10 Batch 5:  loss:     0.2198, validation Accuracy: 0.622000\n",
      "Epoch 34, CIFAR-10 Batch 1:  loss:     0.4442, validation Accuracy: 0.621400\n",
      "Epoch 34, CIFAR-10 Batch 2:  loss:     0.2171, validation Accuracy: 0.617800\n",
      "Epoch 34, CIFAR-10 Batch 3:  loss:     0.2369, validation Accuracy: 0.600400\n",
      "Epoch 34, CIFAR-10 Batch 4:  loss:     0.3160, validation Accuracy: 0.623600\n",
      "Epoch 34, CIFAR-10 Batch 5:  loss:     0.2190, validation Accuracy: 0.621400\n",
      "Epoch 35, CIFAR-10 Batch 1:  loss:     0.4870, validation Accuracy: 0.617600\n",
      "Epoch 35, CIFAR-10 Batch 2:  loss:     0.2238, validation Accuracy: 0.604800\n",
      "Epoch 35, CIFAR-10 Batch 3:  loss:     0.2425, validation Accuracy: 0.609400\n",
      "Epoch 35, CIFAR-10 Batch 4:  loss:     0.3076, validation Accuracy: 0.631000\n",
      "Epoch 35, CIFAR-10 Batch 5:  loss:     0.2255, validation Accuracy: 0.621200\n",
      "Epoch 36, CIFAR-10 Batch 1:  loss:     0.4623, validation Accuracy: 0.598400\n",
      "Epoch 36, CIFAR-10 Batch 2:  loss:     0.2249, validation Accuracy: 0.596600\n",
      "Epoch 36, CIFAR-10 Batch 3:  loss:     0.2469, validation Accuracy: 0.613000\n",
      "Epoch 36, CIFAR-10 Batch 4:  loss:     0.2778, validation Accuracy: 0.624400\n",
      "Epoch 36, CIFAR-10 Batch 5:  loss:     0.2430, validation Accuracy: 0.636400\n",
      "Epoch 37, CIFAR-10 Batch 1:  loss:     0.4614, validation Accuracy: 0.610400\n",
      "Epoch 37, CIFAR-10 Batch 2:  loss:     0.2012, validation Accuracy: 0.612600\n",
      "Epoch 37, CIFAR-10 Batch 3:  loss:     0.2560, validation Accuracy: 0.611400\n",
      "Epoch 37, CIFAR-10 Batch 4:  loss:     0.3152, validation Accuracy: 0.627600\n",
      "Epoch 37, CIFAR-10 Batch 5:  loss:     0.2493, validation Accuracy: 0.627200\n",
      "Epoch 38, CIFAR-10 Batch 1:  loss:     0.4352, validation Accuracy: 0.618400\n",
      "Epoch 38, CIFAR-10 Batch 2:  loss:     0.2110, validation Accuracy: 0.596800\n",
      "Epoch 38, CIFAR-10 Batch 3:  loss:     0.2229, validation Accuracy: 0.612000\n",
      "Epoch 38, CIFAR-10 Batch 4:  loss:     0.2550, validation Accuracy: 0.632400\n",
      "Epoch 38, CIFAR-10 Batch 5:  loss:     0.2311, validation Accuracy: 0.632800\n",
      "Epoch 39, CIFAR-10 Batch 1:  loss:     0.4167, validation Accuracy: 0.620000\n",
      "Epoch 39, CIFAR-10 Batch 2:  loss:     0.1875, validation Accuracy: 0.608000\n",
      "Epoch 39, CIFAR-10 Batch 3:  loss:     0.2650, validation Accuracy: 0.603000\n",
      "Epoch 39, CIFAR-10 Batch 4:  loss:     0.2837, validation Accuracy: 0.635200\n",
      "Epoch 39, CIFAR-10 Batch 5:  loss:     0.2255, validation Accuracy: 0.632400\n",
      "Epoch 40, CIFAR-10 Batch 1:  loss:     0.4095, validation Accuracy: 0.618600\n",
      "Epoch 40, CIFAR-10 Batch 2:  loss:     0.1969, validation Accuracy: 0.614400\n",
      "Epoch 40, CIFAR-10 Batch 3:  loss:     0.2319, validation Accuracy: 0.603000\n",
      "Epoch 40, CIFAR-10 Batch 4:  loss:     0.2556, validation Accuracy: 0.635800\n",
      "Epoch 40, CIFAR-10 Batch 5:  loss:     0.1923, validation Accuracy: 0.630200\n",
      "Epoch 41, CIFAR-10 Batch 1:  loss:     0.3851, validation Accuracy: 0.626400\n",
      "Epoch 41, CIFAR-10 Batch 2:  loss:     0.1937, validation Accuracy: 0.610600\n",
      "Epoch 41, CIFAR-10 Batch 3:  loss:     0.2339, validation Accuracy: 0.601800\n",
      "Epoch 41, CIFAR-10 Batch 4:  loss:     0.2149, validation Accuracy: 0.631000\n",
      "Epoch 41, CIFAR-10 Batch 5:  loss:     0.1982, validation Accuracy: 0.616200\n",
      "Epoch 42, CIFAR-10 Batch 1:  loss:     0.3570, validation Accuracy: 0.631000\n",
      "Epoch 42, CIFAR-10 Batch 2:  loss:     0.1978, validation Accuracy: 0.608400\n",
      "Epoch 42, CIFAR-10 Batch 3:  loss:     0.2175, validation Accuracy: 0.610600\n",
      "Epoch 42, CIFAR-10 Batch 4:  loss:     0.2366, validation Accuracy: 0.621000\n",
      "Epoch 42, CIFAR-10 Batch 5:  loss:     0.2214, validation Accuracy: 0.615800\n",
      "Epoch 43, CIFAR-10 Batch 1:  loss:     0.3817, validation Accuracy: 0.630600\n",
      "Epoch 43, CIFAR-10 Batch 2:  loss:     0.2532, validation Accuracy: 0.569800\n",
      "Epoch 43, CIFAR-10 Batch 3:  loss:     0.1781, validation Accuracy: 0.622600\n",
      "Epoch 43, CIFAR-10 Batch 4:  loss:     0.2519, validation Accuracy: 0.596400\n",
      "Epoch 43, CIFAR-10 Batch 5:  loss:     0.1736, validation Accuracy: 0.634200\n",
      "Epoch 44, CIFAR-10 Batch 1:  loss:     0.3957, validation Accuracy: 0.626400\n",
      "Epoch 44, CIFAR-10 Batch 2:  loss:     0.1851, validation Accuracy: 0.576800\n",
      "Epoch 44, CIFAR-10 Batch 3:  loss:     0.1853, validation Accuracy: 0.623800\n",
      "Epoch 44, CIFAR-10 Batch 4:  loss:     0.2038, validation Accuracy: 0.616000\n",
      "Epoch 44, CIFAR-10 Batch 5:  loss:     0.1766, validation Accuracy: 0.632400\n",
      "Epoch 45, CIFAR-10 Batch 1:  loss:     0.3567, validation Accuracy: 0.632800\n",
      "Epoch 45, CIFAR-10 Batch 2:  loss:     0.1723, validation Accuracy: 0.598600\n",
      "Epoch 45, CIFAR-10 Batch 3:  loss:     0.1644, validation Accuracy: 0.630000\n",
      "Epoch 45, CIFAR-10 Batch 4:  loss:     0.1857, validation Accuracy: 0.623200\n",
      "Epoch 45, CIFAR-10 Batch 5:  loss:     0.1747, validation Accuracy: 0.632000\n",
      "Epoch 46, CIFAR-10 Batch 1:  loss:     0.3554, validation Accuracy: 0.625400\n",
      "Epoch 46, CIFAR-10 Batch 2:  loss:     0.1439, validation Accuracy: 0.600400\n",
      "Epoch 46, CIFAR-10 Batch 3:  loss:     0.1739, validation Accuracy: 0.630000\n",
      "Epoch 46, CIFAR-10 Batch 4:  loss:     0.1704, validation Accuracy: 0.613800\n",
      "Epoch 46, CIFAR-10 Batch 5:  loss:     0.1486, validation Accuracy: 0.639800\n",
      "Epoch 47, CIFAR-10 Batch 1:  loss:     0.3329, validation Accuracy: 0.630800\n",
      "Epoch 47, CIFAR-10 Batch 2:  loss:     0.1427, validation Accuracy: 0.599600\n",
      "Epoch 47, CIFAR-10 Batch 3:  loss:     0.1538, validation Accuracy: 0.639800\n",
      "Epoch 47, CIFAR-10 Batch 4:  loss:     0.1796, validation Accuracy: 0.623600\n",
      "Epoch 47, CIFAR-10 Batch 5:  loss:     0.1515, validation Accuracy: 0.633200\n",
      "Epoch 48, CIFAR-10 Batch 1:  loss:     0.3080, validation Accuracy: 0.627400\n",
      "Epoch 48, CIFAR-10 Batch 2:  loss:     0.1444, validation Accuracy: 0.605800\n",
      "Epoch 48, CIFAR-10 Batch 3:  loss:     0.1444, validation Accuracy: 0.632400\n",
      "Epoch 48, CIFAR-10 Batch 4:  loss:     0.1813, validation Accuracy: 0.620800\n",
      "Epoch 48, CIFAR-10 Batch 5:  loss:     0.1583, validation Accuracy: 0.632600\n",
      "Epoch 49, CIFAR-10 Batch 1:  loss:     0.2894, validation Accuracy: 0.626000\n",
      "Epoch 49, CIFAR-10 Batch 2:  loss:     0.1571, validation Accuracy: 0.604200\n",
      "Epoch 49, CIFAR-10 Batch 3:  loss:     0.1581, validation Accuracy: 0.626000\n",
      "Epoch 49, CIFAR-10 Batch 4:  loss:     0.2172, validation Accuracy: 0.614000\n",
      "Epoch 49, CIFAR-10 Batch 5:  loss:     0.1431, validation Accuracy: 0.636600\n",
      "Epoch 50, CIFAR-10 Batch 1:  loss:     0.2669, validation Accuracy: 0.629200\n",
      "Epoch 50, CIFAR-10 Batch 2:  loss:     0.1439, validation Accuracy: 0.605200\n",
      "Epoch 50, CIFAR-10 Batch 3:  loss:     0.1610, validation Accuracy: 0.634600\n",
      "Epoch 50, CIFAR-10 Batch 4:  loss:     0.1609, validation Accuracy: 0.619000\n",
      "Epoch 50, CIFAR-10 Batch 5:  loss:     0.1380, validation Accuracy: 0.631200\n",
      "Epoch 51, CIFAR-10 Batch 1:  loss:     0.2972, validation Accuracy: 0.631600\n",
      "Epoch 51, CIFAR-10 Batch 2:  loss:     0.1354, validation Accuracy: 0.607200\n",
      "Epoch 51, CIFAR-10 Batch 3:  loss:     0.1374, validation Accuracy: 0.630600\n",
      "Epoch 51, CIFAR-10 Batch 4:  loss:     0.1703, validation Accuracy: 0.618000\n",
      "Epoch 51, CIFAR-10 Batch 5:  loss:     0.1254, validation Accuracy: 0.632400\n",
      "Epoch 52, CIFAR-10 Batch 1:  loss:     0.2857, validation Accuracy: 0.632400\n",
      "Epoch 52, CIFAR-10 Batch 2:  loss:     0.1381, validation Accuracy: 0.593200\n",
      "Epoch 52, CIFAR-10 Batch 3:  loss:     0.1489, validation Accuracy: 0.622000\n",
      "Epoch 52, CIFAR-10 Batch 4:  loss:     0.1703, validation Accuracy: 0.619000\n",
      "Epoch 52, CIFAR-10 Batch 5:  loss:     0.1525, validation Accuracy: 0.629400\n",
      "Epoch 53, CIFAR-10 Batch 1:  loss:     0.2803, validation Accuracy: 0.627000\n",
      "Epoch 53, CIFAR-10 Batch 2:  loss:     0.1303, validation Accuracy: 0.602800\n",
      "Epoch 53, CIFAR-10 Batch 3:  loss:     0.1326, validation Accuracy: 0.631000\n",
      "Epoch 53, CIFAR-10 Batch 4:  loss:     0.1747, validation Accuracy: 0.617400\n",
      "Epoch 53, CIFAR-10 Batch 5:  loss:     0.1427, validation Accuracy: 0.632200\n",
      "Epoch 54, CIFAR-10 Batch 1:  loss:     0.2715, validation Accuracy: 0.624200\n",
      "Epoch 54, CIFAR-10 Batch 2:  loss:     0.1206, validation Accuracy: 0.601000\n",
      "Epoch 54, CIFAR-10 Batch 3:  loss:     0.1262, validation Accuracy: 0.624600\n",
      "Epoch 54, CIFAR-10 Batch 4:  loss:     0.1475, validation Accuracy: 0.626000\n",
      "Epoch 54, CIFAR-10 Batch 5:  loss:     0.1653, validation Accuracy: 0.624800\n",
      "Epoch 55, CIFAR-10 Batch 1:  loss:     0.3097, validation Accuracy: 0.620200\n",
      "Epoch 55, CIFAR-10 Batch 2:  loss:     0.1379, validation Accuracy: 0.592200\n",
      "Epoch 55, CIFAR-10 Batch 3:  loss:     0.1663, validation Accuracy: 0.615000\n",
      "Epoch 55, CIFAR-10 Batch 4:  loss:     0.1532, validation Accuracy: 0.615200\n",
      "Epoch 55, CIFAR-10 Batch 5:  loss:     0.1610, validation Accuracy: 0.626200\n",
      "Epoch 56, CIFAR-10 Batch 1:  loss:     0.2699, validation Accuracy: 0.631000\n",
      "Epoch 56, CIFAR-10 Batch 2:  loss:     0.1417, validation Accuracy: 0.592000\n",
      "Epoch 56, CIFAR-10 Batch 3:  loss:     0.1381, validation Accuracy: 0.619200\n",
      "Epoch 56, CIFAR-10 Batch 4:  loss:     0.1406, validation Accuracy: 0.611000\n",
      "Epoch 56, CIFAR-10 Batch 5:  loss:     0.1522, validation Accuracy: 0.617400\n",
      "Epoch 57, CIFAR-10 Batch 1:  loss:     0.2702, validation Accuracy: 0.618600\n",
      "Epoch 57, CIFAR-10 Batch 2:  loss:     0.1501, validation Accuracy: 0.589800\n",
      "Epoch 57, CIFAR-10 Batch 3:  loss:     0.1611, validation Accuracy: 0.613000\n",
      "Epoch 57, CIFAR-10 Batch 4:  loss:     0.1612, validation Accuracy: 0.604600\n",
      "Epoch 57, CIFAR-10 Batch 5:  loss:     0.1782, validation Accuracy: 0.614200\n",
      "Epoch 58, CIFAR-10 Batch 1:  loss:     0.2903, validation Accuracy: 0.617600\n",
      "Epoch 58, CIFAR-10 Batch 2:  loss:     0.1611, validation Accuracy: 0.583000\n",
      "Epoch 58, CIFAR-10 Batch 3:  loss:     0.1462, validation Accuracy: 0.621200\n",
      "Epoch 58, CIFAR-10 Batch 4:  loss:     0.1785, validation Accuracy: 0.613000\n",
      "Epoch 58, CIFAR-10 Batch 5:  loss:     0.1825, validation Accuracy: 0.613800\n",
      "Epoch 59, CIFAR-10 Batch 1:  loss:     0.2786, validation Accuracy: 0.624000\n",
      "Epoch 59, CIFAR-10 Batch 2:  loss:     0.1498, validation Accuracy: 0.593400\n",
      "Epoch 59, CIFAR-10 Batch 3:  loss:     0.1487, validation Accuracy: 0.613800\n",
      "Epoch 59, CIFAR-10 Batch 4:  loss:     0.1767, validation Accuracy: 0.603600\n",
      "Epoch 59, CIFAR-10 Batch 5:  loss:     0.1606, validation Accuracy: 0.625400\n",
      "Epoch 60, CIFAR-10 Batch 1:  loss:     0.2821, validation Accuracy: 0.627200\n",
      "Epoch 60, CIFAR-10 Batch 2:  loss:     0.1345, validation Accuracy: 0.606000\n",
      "Epoch 60, CIFAR-10 Batch 3:  loss:     0.1011, validation Accuracy: 0.628200\n",
      "Epoch 60, CIFAR-10 Batch 4:  loss:     0.1848, validation Accuracy: 0.602800\n",
      "Epoch 60, CIFAR-10 Batch 5:  loss:     0.1683, validation Accuracy: 0.629600\n"
     ]
    }
   ],
   "source": [
    "\"\"\"\n",
    "DON'T MODIFY ANYTHING IN THIS CELL\n",
    "\"\"\"\n",
    "save_model_path = './image_classification'\n",
    "\n",
    "print('Training...')\n",
    "with tf.Session() as sess:\n",
    "    # Initializing the variables\n",
    "    sess.run(tf.global_variables_initializer())\n",
    "    \n",
    "    # Training cycle\n",
    "    for epoch in range(epochs):\n",
    "        # Loop over all batches\n",
    "        n_batches = 5\n",
    "        for batch_i in range(1, n_batches + 1):\n",
    "            for batch_features, batch_labels in helper.load_preprocess_training_batch(batch_i, batch_size):\n",
    "                train_neural_network(sess, optimizer, keep_probability, batch_features, batch_labels)\n",
    "            print('Epoch {:>2}, CIFAR-10 Batch {}:  '.format(epoch + 1, batch_i), end='')\n",
    "            print_stats(sess, batch_features, batch_labels, cost, accuracy)\n",
    "            \n",
    "    # Save Model\n",
    "    saver = tf.train.Saver()\n",
    "    save_path = saver.save(sess, save_model_path)"
   ]
  },
  {
   "cell_type": "markdown",
   "metadata": {
    "deletable": true,
    "editable": true
   },
   "source": [
    "# Checkpoint\n",
    "The model has been saved to disk.\n",
    "## Test Model\n",
    "Test your model against the test dataset.  This will be your final accuracy. You should have an accuracy greater than 50%. If you don't, keep tweaking the model architecture and parameters."
   ]
  },
  {
   "cell_type": "code",
   "execution_count": 60,
   "metadata": {
    "collapsed": false,
    "deletable": true,
    "editable": true
   },
   "outputs": [
    {
     "name": "stdout",
     "output_type": "stream",
     "text": [
      "Testing Accuracy: 0.62822265625\n",
      "\n"
     ]
    },
    {
     "data": {
      "image/png": "[encoded data removed]",
      "text/plain": [
       "<matplotlib.figure.Figure at 0x7f7fd40157f0>"
      ]
     },
     "metadata": {
      "image/png": {
       "height": 319,
       "width": 355
      }
     },
     "output_type": "display_data"
    }
   ],
   "source": [
    "\"\"\"\n",
    "DON'T MODIFY ANYTHING IN THIS CELL\n",
    "\"\"\"\n",
    "%matplotlib inline\n",
    "%config InlineBackend.figure_format = 'retina'\n",
    "\n",
    "import tensorflow as tf\n",
    "import pickle\n",
    "import helper\n",
    "import random\n",
    "\n",
    "# Set batch size if not already set\n",
    "try:\n",
    "    if batch_size:\n",
    "        pass\n",
    "except NameError:\n",
    "    batch_size = 64\n",
    "\n",
    "save_model_path = './image_classification'\n",
    "n_samples = 4\n",
    "top_n_predictions = 3\n",
    "\n",
    "def test_model():\n",
    "    \"\"\"\n",
    "    Test the saved model against the test dataset\n",
    "    \"\"\"\n",
    "\n",
    "    test_features, test_labels = pickle.load(open('preprocess_test.p', mode='rb'))\n",
    "    loaded_graph = tf.Graph()\n",
    "\n",
    "    with tf.Session(graph=loaded_graph) as sess:\n",
    "        # Load model\n",
    "        loader = tf.train.import_meta_graph(save_model_path + '.meta')\n",
    "        loader.restore(sess, save_model_path)\n",
    "\n",
    "        # Get Tensors from loaded model\n",
    "        loaded_x = loaded_graph.get_tensor_by_name('x:0')\n",
    "        loaded_y = loaded_graph.get_tensor_by_name('y:0')\n",
    "        loaded_keep_prob = loaded_graph.get_tensor_by_name('keep_prob:0')\n",
    "        loaded_logits = loaded_graph.get_tensor_by_name('logits:0')\n",
    "        loaded_acc = loaded_graph.get_tensor_by_name('accuracy:0')\n",
    "        \n",
    "        # Get accuracy in batches for memory limitations\n",
    "        test_batch_acc_total = 0\n",
    "        test_batch_count = 0\n",
    "        \n",
    "        for test_feature_batch, test_label_batch in helper.batch_features_labels(test_features, test_labels, batch_size):\n",
    "            test_batch_acc_total += sess.run(\n",
    "                loaded_acc,\n",
    "                feed_dict={loaded_x: test_feature_batch, loaded_y: test_label_batch, loaded_keep_prob: 1.0})\n",
    "            test_batch_count += 1\n",
    "\n",
    "        print('Testing Accuracy: {}\\n'.format(test_batch_acc_total/test_batch_count))\n",
    "\n",
    "        # Print Random Samples\n",
    "        random_test_features, random_test_labels = tuple(zip(*random.sample(list(zip(test_features, test_labels)), n_samples)))\n",
    "        random_test_predictions = sess.run(\n",
    "            tf.nn.top_k(tf.nn.softmax(loaded_logits), top_n_predictions),\n",
    "            feed_dict={loaded_x: random_test_features, loaded_y: random_test_labels, loaded_keep_prob: 1.0})\n",
    "        helper.display_image_predictions(random_test_features, random_test_labels, random_test_predictions)\n",
    "\n",
    "\n",
    "test_model()"
   ]
  },
  {
   "cell_type": "markdown",
   "metadata": {
    "deletable": true,
    "editable": true
   },
   "source": [
    "## Why 50-80% Accuracy?\n",
    "You might be wondering why you can't get an accuracy any higher. First things first, 50% isn't bad for a simple CNN.  Pure guessing would get you 10% accuracy. However, you might notice people are getting scores [well above 80%](http://rodrigob.github.io/are_we_there_yet/build/classification_datasets_results.html#43494641522d3130).  That's because we haven't taught you all there is to know about neural networks. We still need to cover a few more techniques.\n",
    "## Submitting This Project\n",
    "When submitting this project, make sure to run all the cells before saving the notebook.  Save the notebook file as \"dlnd_image_classification.ipynb\" and save it as a HTML file under \"File\" -> \"Download as\".  Include the \"helper.py\" and \"problem_unittests.py\" files in your submission."
   ]
  }
 ],
 "metadata": {
  "kernelspec": {
   "display_name": "Python 3",
   "language": "python",
   "name": "python3"
  },
  "language_info": {
   "codemirror_mode": {
    "name": "ipython",
    "version": 3
   },
   "file_extension": ".py",
   "mimetype": "text/x-python",
   "name": "python",
   "nbconvert_exporter": "python",
   "pygments_lexer": "ipython3",
   "version": "3.5.3"
  }
 },
 "nbformat": 4,
 "nbformat_minor": 0
}
